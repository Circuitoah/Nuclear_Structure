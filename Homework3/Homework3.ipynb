{
 "cells": [
  {
   "cell_type": "markdown",
   "metadata": {},
   "source": [
    "# Loading the appropriate packages"
   ]
  },
  {
   "cell_type": "code",
   "execution_count": null,
   "metadata": {},
   "outputs": [],
   "source": []
  },
  {
   "cell_type": "code",
   "execution_count": null,
   "metadata": {},
   "outputs": [],
   "source": []
  },
  {
   "cell_type": "code",
   "execution_count": 1,
   "metadata": {},
   "outputs": [],
   "source": [
    "import numpy as np\n",
    "from matplotlib import pyplot as plt\n",
    "from scipy.optimize import fsolve\n"
   ]
  },
  {
   "cell_type": "markdown",
   "metadata": {},
   "source": [
    "# loading in Data Set"
   ]
  },
  {
   "cell_type": "code",
   "execution_count": 2,
   "metadata": {},
   "outputs": [
    {
     "name": "stdout",
     "output_type": "stream",
     "text": [
      "8\n",
      "8\n",
      "8\n",
      "8\n",
      "8\n",
      "8\n",
      "8\n"
     ]
    }
   ],
   "source": [
    "A = [109, 112, 147, 147, 150, 151, 156, 160 ]\n",
    "Z = [53, 55, 69, 69, 71, 71, 73, 75]\n",
    "Q = [.829, .977, 1.071, 1.139, 1.285, 1.255 , 1.015, 1.250]\n",
    "n = [1, 0 ,0 , 1 , 0, 0, 1, 1 ]\n",
    "l = [2, 4 , 5, 2, 5, 5, 2, 2 ]\n",
    "j = [5/2, 7/2, 11/2 , 3/2 , 11/2, 11/2 , 3/2, 3/2]\n",
    "Gamma_exp = [1.09e-4 , 3.3e-5, 2.7, 3.6e-4, 1e-2, 1.2e-1, 1.65e-1, 8.7e-4]\n",
    "\n",
    "print(len(A))\n",
    "print(len(Z))\n",
    "print(len(Q))\n",
    "print(len(n))\n",
    "print(len(l))\n",
    "print(len(j))\n",
    "print(len(Gamma_exp))"
   ]
  },
  {
   "cell_type": "markdown",
   "metadata": {},
   "source": [
    "# Constants needed for the calculation"
   ]
  },
  {
   "cell_type": "code",
   "execution_count": 3,
   "metadata": {},
   "outputs": [],
   "source": [
    "#constants\n",
    "e = np.sqrt(1.4399764) #Mev fm\n",
    "a  = 0.7 #fm \n",
    "hbar_mpi_c_squared = 2.044 # fm**2\n",
    "\n",
    "hbar = 197.32 # \n",
    "\n",
    "# Potentals\n",
    "V_0 = 54 # MeV\n",
    "V_SO = 0.2 * V_0\n",
    "\n",
    "mu  = 938"
   ]
  },
  {
   "cell_type": "markdown",
   "metadata": {},
   "source": [
    "# Calculating the potential"
   ]
  },
  {
   "cell_type": "code",
   "execution_count": 4,
   "metadata": {},
   "outputs": [],
   "source": [
    "def V_coul(r, Z, A):\n",
    "    R = 1.2 * A**(1/3) # fm \n",
    "    if (r > R):\n",
    "        result = (Z * e**2)/ r\n",
    "    else:\n",
    "        result = (Z* e**2) * (3  - (r/R)**2 )/(2 * R)\n",
    "    return result\n",
    "\n",
    "fws = lambda r : (1 + np.exp( (r - R)/a ))**-1\n",
    "dfws_dr = lambda r : - (  np.exp((r- R) / a )/a ) * ( 1 + np.exp((r - R)/a) )**(-2)\n",
    "l_dot_s  = lambda j, l : 1/2 *( j* (j + 1) - l * (l  + 1) - .5 * (1.5) )\n",
    "V_ws = lambda r, j , l : - V_0 * fws(r) + V_SO * hbar_mpi_c_squared * (1/r) * dfws_dr(r) * l_dot_s(j , l)\n",
    "V = lambda r , j , l , Z , A :  V_ws(r,j, l) + V_coul(r, Z, A) +  (hbar**2)/ (2 * r * mu**2)* (l * (l + 1 ))"
   ]
  },
  {
   "cell_type": "markdown",
   "metadata": {},
   "source": [
    "# Testing to see if it works"
   ]
  },
  {
   "cell_type": "code",
   "execution_count": 5,
   "metadata": {},
   "outputs": [],
   "source": [
    "c = 7\n",
    "R = 1.2 * A[c]**(1/3) \n",
    "\n",
    "r_test = np.linspace(.1, 15, 1000)\n",
    "\n",
    "V_test = [V(i, j[c], l[c], Z[c], A[c] ) for i in r_test.tolist()]\n",
    "\n",
    "E_test = [Q[c] for i in r_test.tolist()]\n",
    "\n",
    "#for i in range(len(r_test)):\n",
    "#    print( r_test[i], \"     \", V_test[i], \"    \", E_test[i])\n",
    "\n",
    "#plt.plot(r_test, V_test)\n",
    "#plt.plot(r_test, E_test, color = \"red\")\n",
    "#plt.show()\n",
    "\n",
    "#r_0 = [0.0045, ] "
   ]
  },
  {
   "cell_type": "markdown",
   "metadata": {},
   "source": [
    "# Finding the roots to integrate over"
   ]
  },
  {
   "cell_type": "code",
   "execution_count": 6,
   "metadata": {},
   "outputs": [
    {
     "name": "stdout",
     "output_type": "stream",
     "text": [
      "[0.003603153153153153, 0.013612162162162161, 0.020618468468468466, 0.004604054054054054, 0.020618468468468466, 0.020618468468468466, 0.004604054054054054, 0.004604054054054054]\n"
     ]
    }
   ],
   "source": [
    "def r0_finder(r, V, E):\n",
    "\n",
    "    results = 0\n",
    "\n",
    "    for i in range(len(r)):\n",
    "    \n",
    "        if (V[i - 1] > E[i]) and (V[i] < E[i]):\n",
    "            results  = r[i] - (r[i] - r[i - 1])/2\n",
    "\n",
    "\n",
    "    return results\n",
    "\n",
    "r_0 = []\n",
    "\n",
    "for c  in range(len(j)):\n",
    "    R = 1.2 * A[c]**(1/3) \n",
    "    r_test = np.linspace(.0001, 1, 1000)\n",
    "    V_test = [V(i, j[c], l[c], Z[c], A[c] ) for i in r_test.tolist()]\n",
    "    E_test = [Q[c] for i in r_test.tolist()]\n",
    "    r_0.append(r0_finder(r_test, V_test, E_test))\n",
    "\n",
    "print(r_0)"
   ]
  },
  {
   "cell_type": "code",
   "execution_count": 7,
   "metadata": {},
   "outputs": [
    {
     "name": "stdout",
     "output_type": "stream",
     "text": [
      "[6.789339339339339, 6.565615615615616, 7.2964464464464465, 7.042892892892893, 7.3262762762762765, 7.341191191191191, 7.117467467467468, 7.177127127127127]\n"
     ]
    }
   ],
   "source": [
    "def r1_finder(r, V, E):\n",
    "\n",
    "    results = 0\n",
    "\n",
    "    for i in range(len(r)):\n",
    "    \n",
    "        if (V[i - 1] < E[i]) and (V[i] > E[i]):\n",
    "            results  = r[i] - (r[i] - r[i - 1])/2\n",
    "\n",
    "\n",
    "    return results\n",
    "\n",
    "r_1 = []\n",
    "\n",
    "for c  in range(len(j)):\n",
    "    R = 1.2 * A[c]**(1/3) \n",
    "    r_test = np.linspace(.1, 15, 1000)\n",
    "    V_test = [V(i, j[c], l[c], Z[c], A[c] ) for i in r_test.tolist()]\n",
    "    E_test = [Q[c] for i in r_test.tolist()]\n",
    "    r_1.append(r1_finder(r_test, V_test, E_test))\n",
    "\n",
    "print(r_1)"
   ]
  },
  {
   "cell_type": "code",
   "execution_count": 8,
   "metadata": {},
   "outputs": [
    {
     "name": "stdout",
     "output_type": "stream",
     "text": [
      "[92.25225225225225, 81.4894894894895, 93.37337337337337, 87.31931931931932, 80.03203203203202, 81.93793793793793, 103.68768768768768, 86.53453453453454]\n"
     ]
    }
   ],
   "source": [
    "def r2_finder(r, V, E):\n",
    "\n",
    "    results = 0\n",
    "\n",
    "    for i in range(len(r)):\n",
    "    \n",
    "        if (V[i - 1] > E[i]) and (V[i] < E[i]):\n",
    "            results  = r[i] - (r[i] - r[i - 1])/2\n",
    "\n",
    "\n",
    "    return results\n",
    "\n",
    "r_2 = []\n",
    "\n",
    "for c  in range(len(j)):\n",
    "    R = 1.2 * A[c]**(1/3) \n",
    "    r_test = np.linspace(8, 120, 1000)\n",
    "    V_test = [V(i, j[c], l[c], Z[c], A[c] ) for i in r_test.tolist()]\n",
    "    E_test = [Q[c] for i in r_test.tolist()]\n",
    "    r_2.append(r0_finder(r_test, V_test, E_test))\n",
    "\n",
    "print(r_2)"
   ]
  },
  {
   "cell_type": "markdown",
   "metadata": {},
   "source": [
    "# Calculating the half - life "
   ]
  },
  {
   "cell_type": "code",
   "execution_count": 9,
   "metadata": {},
   "outputs": [
    {
     "data": {
      "image/png": "[encoded data removed]",
      "text/plain": [
       "<Figure size 640x480 with 1 Axes>"
      ]
     },
     "metadata": {},
     "output_type": "display_data"
    }
   ],
   "source": [
    "c = 7\n",
    "R = 1.2 * A[c]**(1/3) \n",
    "\n",
    "r_test = np.linspace(.001, 100, 1000)\n",
    "\n",
    "V_test = [V(i, j[c], l[c], Z[c], A[c] ) for i in r_test.tolist()]\n",
    "\n",
    "E_test = [Q[c] for i in r_test.tolist()]\n",
    "\n",
    "plt.scatter(r_0[c], Q[c])\n",
    "plt.scatter(r_1[c], Q[c])    \n",
    "plt.scatter(r_2[c], Q[c])    \n",
    "#for i in range(len(r_test)):\n",
    "#    print( r_test[i], \"     \", V_test[i], \"    \", E_test[i])\n",
    "\n",
    "plt.plot(r_test, V_test)\n",
    "plt.plot(r_test, E_test, color = \"red\")\n",
    "plt.xlim(0,10)\n",
    "#plt.ylim(-35,15)\n",
    "plt.show()\n",
    "\n",
    "#r_0 = [0.0045, ]\n",
    " "
   ]
  },
  {
   "cell_type": "code",
   "execution_count": 10,
   "metadata": {},
   "outputs": [
    {
     "name": "stdout",
     "output_type": "stream",
     "text": [
      "0.5711576837004411\n",
      "0.5584984280715074\n",
      "0.5583026414978522\n",
      "0.5552982803952946\n",
      "0.5570952940586636\n",
      "0.557298664395795\n",
      "0.5502811770600048\n",
      "[inf, inf, inf, inf, inf, inf, inf]\n"
     ]
    },
    {
     "name": "stderr",
     "output_type": "stream",
     "text": [
      "/tmp/ipykernel_27788/2385236466.py:24: RuntimeWarning: divide by zero encountered in scalar divide\n",
      "  gamma_value = np.log(2)/(S * N * (hbar**2/ (4 * mu)) * np.exp(- 2 *np.sum(Gamma_integrand) * dr))\n"
     ]
    }
   ],
   "source": [
    "#spectroscoptic factor \n",
    "S = 1\n",
    "Gamma_half =[]\n",
    "\n",
    "for c in range (7):\n",
    "    # Wave Number/ Vector etc\n",
    "    R = 1.2 * A[c]**(1/3) \n",
    "    k = lambda r : np.sqrt(2 * mu * abs(Q[c] - V(r, j[c], l[c], Z[c], A[c] ))) / hbar\n",
    "\n",
    "    #Calculating N\n",
    "    dr = 1000\n",
    "    r0_r1_mesh = np.linspace(r_0[c], r_1[c], dr )\n",
    "    N_integrand= np.array([.5 * k(i) for i in r0_r1_mesh.tolist()])\n",
    "    N = (np.sum(N_integrand)**-1) * dr\n",
    "    N = N**-1 \n",
    "    print(N)\n",
    "\n",
    "    dr = 100\n",
    "    r1_r2_mesh = np.linspace(r_1[c], r_2[c], dr )\n",
    "    Gamma_integrand = np.array([k(i) for i in r1_r2_mesh.tolist()])\n",
    "    \n",
    "    \n",
    "\n",
    "    gamma_value = np.log(2)/(S * N * (hbar**2/ (4 * mu)) * np.exp(- 2 *np.sum(Gamma_integrand) * dr))\n",
    "    gamma_value = hbar * gamma_value\n",
    "\n",
    "    Gamma_half.append( gamma_value )\n",
    "print(Gamma_half)"
   ]
  },
  {
   "cell_type": "code",
   "execution_count": 11,
   "metadata": {},
   "outputs": [
    {
     "data": {
      "text/plain": [
       "0.0"
      ]
     },
     "execution_count": 11,
     "metadata": {},
     "output_type": "execute_result"
    }
   ],
   "source": [
    "np.exp(- 2 *np.sum(Gamma_integrand) * dr)"
   ]
  },
  {
   "cell_type": "code",
   "execution_count": null,
   "metadata": {},
   "outputs": [],
   "source": []
  }
 ],
 "metadata": {
  "kernelspec": {
   "display_name": "Python 3",
   "language": "python",
   "name": "python3"
  },
  "language_info": {
   "codemirror_mode": {
    "name": "ipython",
    "version": 3
   },
   "file_extension": ".py",
   "mimetype": "text/x-python",
   "name": "python",
   "nbconvert_exporter": "python",
   "pygments_lexer": "ipython3",
   "version": "3.10.13"
  }
 },
 "nbformat": 4,
 "nbformat_minor": 2
}
