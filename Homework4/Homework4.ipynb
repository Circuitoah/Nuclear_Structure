{
 "cells": [
  {
   "cell_type": "code",
   "execution_count": 2,
   "metadata": {},
   "outputs": [],
   "source": [
    "import numpy as np\n",
    "from matplotlib import pyplot as plt"
   ]
  },
  {
   "cell_type": "code",
   "execution_count": 3,
   "metadata": {},
   "outputs": [],
   "source": [
    "eps_0 = 1 \n",
    "Omega = 1\n",
    "N = 14\n",
    "V = 1"
   ]
  },
  {
   "cell_type": "code",
   "execution_count": 4,
   "metadata": {},
   "outputs": [
    {
     "name": "stdout",
     "output_type": "stream",
     "text": [
      "15\n",
      "\n",
      "0.0\n"
     ]
    }
   ],
   "source": [
    "\n",
    "K_0 = np.zeros([N + 1, N +1])\n",
    "K_plus_plus = np.zeros([N + 1, N + 1])\n",
    "K_minus_minus = np.zeros([N + 1, N + 1])\n",
    "\n",
    "\n",
    "k_0_max = N* .5\n",
    "k_0_min = -N * .5\n",
    "\n",
    "k_0_ket = []\n",
    "\n",
    "\n",
    "k_0 = k_0_min\n",
    "\n",
    "while (k_0 <= k_0_max):\n",
    "\n",
    "    k_0_ket.append(k_0)\n",
    "    k_0 += 1\n",
    "\n",
    "k_0_bra = k_0_ket\n",
    "\n",
    "\n",
    "print( len(k_0_ket))\n",
    "print()\n",
    "\n",
    "print(K_0[13][13])\n"
   ]
  },
  {
   "cell_type": "code",
   "execution_count": 5,
   "metadata": {},
   "outputs": [],
   "source": [
    "def K_0_op(bra, ket):\n",
    "    \n",
    "    if bra == ket:\n",
    "        result = ket\n",
    "    \n",
    "    else: \n",
    "        result =  0\n",
    "\n",
    "    return result\n",
    "\n",
    "def K_plus_op(K_proper, bra, ket): \n",
    "\n",
    "    if bra == (ket + 1):\n",
    "\n",
    "        term1 = np.sqrt( K_proper * (K_proper + 1 )  -  ket * (ket + 1))   \n",
    "        #term2 = np.sqrt( K_proper * (K_proper + 1 )  + (ket + 1) * ((ket + 1) + 1))\n",
    "\n",
    "        return term1 #* term2\n",
    "\n",
    "    else: \n",
    "        return 0\n",
    "\n",
    "\n",
    "def K_minus_op(K_proper, bra, ket): \n",
    "\n",
    "    if bra == (ket - 1):\n",
    "\n",
    "        term1 = np.sqrt( K_proper * (K_proper + 1 )  - ket * (ket - 1))\n",
    "        #term2 = np.sqrt( K_proper * (K_proper + 1 )  + (ket - 1) * ((ket - 1) - 1))\n",
    "\n",
    "        return term1 #* term2\n",
    "\n",
    "    else: \n",
    "        return 0"
   ]
  },
  {
   "cell_type": "code",
   "execution_count": 6,
   "metadata": {},
   "outputs": [],
   "source": [
    "for i in range(len(k_0_ket)):\n",
    "    for j in range(len(k_0_bra)):\n",
    "        K_0[i][j] = K_0_op(k_0_bra[j], k_0_ket[i]) \n",
    "        K_plus_plus[i][j] =  K_plus_op(k_0_max,k_0_bra[j], k_0_ket[i])\n",
    "        K_minus_minus[i][j] =  K_minus_op(k_0_max,k_0_bra[j], k_0_ket[i])\n"
   ]
  },
  {
   "cell_type": "code",
   "execution_count": 8,
   "metadata": {},
   "outputs": [
    {
     "name": "stdout",
     "output_type": "stream",
     "text": [
      "[[-7.          0.          9.53939201  0.          0.          0.\n",
      "   0.          0.          0.          0.          0.          0.\n",
      "   0.          0.          0.        ]\n",
      " [ 0.         -6.          0.         15.29705854  0.          0.\n",
      "   0.          0.          0.          0.          0.          0.\n",
      "   0.          0.          0.        ]\n",
      " [ 9.53939201  0.         -5.          0.         19.89974874  0.\n",
      "   0.          0.          0.          0.          0.          0.\n",
      "   0.          0.          0.        ]\n",
      " [ 0.         15.29705854  0.         -4.          0.         23.4520788\n",
      "   0.          0.          0.          0.          0.          0.\n",
      "   0.          0.          0.        ]\n",
      " [ 0.          0.         19.89974874  0.         -3.          0.\n",
      "  25.98076211  0.          0.          0.          0.          0.\n",
      "   0.          0.          0.        ]\n",
      " [ 0.          0.          0.         23.4520788   0.         -2.\n",
      "   0.         27.49545417  0.          0.          0.          0.\n",
      "   0.          0.          0.        ]\n",
      " [ 0.          0.          0.          0.         25.98076211  0.\n",
      "  -1.          0.         28.          0.          0.          0.\n",
      "   0.          0.          0.        ]\n",
      " [ 0.          0.          0.          0.          0.         27.49545417\n",
      "   0.          0.          0.         27.49545417  0.          0.\n",
      "   0.          0.          0.        ]\n",
      " [ 0.          0.          0.          0.          0.          0.\n",
      "  28.          0.          1.          0.         25.98076211  0.\n",
      "   0.          0.          0.        ]\n",
      " [ 0.          0.          0.          0.          0.          0.\n",
      "   0.         27.49545417  0.          2.          0.         23.4520788\n",
      "   0.          0.          0.        ]\n",
      " [ 0.          0.          0.          0.          0.          0.\n",
      "   0.          0.         25.98076211  0.          3.          0.\n",
      "  19.89974874  0.          0.        ]\n",
      " [ 0.          0.          0.          0.          0.          0.\n",
      "   0.          0.          0.         23.4520788   0.          4.\n",
      "   0.         15.29705854  0.        ]\n",
      " [ 0.          0.          0.          0.          0.          0.\n",
      "   0.          0.          0.          0.         19.89974874  0.\n",
      "   5.          0.          9.53939201]\n",
      " [ 0.          0.          0.          0.          0.          0.\n",
      "   0.          0.          0.          0.          0.         15.29705854\n",
      "   0.          6.          0.        ]\n",
      " [ 0.          0.          0.          0.          0.          0.\n",
      "   0.          0.          0.          0.          0.          0.\n",
      "   9.53939201  0.          7.        ]]\n"
     ]
    }
   ],
   "source": [
    "H =  eps_0 * K_0 + 0.5 * V* (np.matmul(K_plus_plus, K_plus_plus) +  np.matmul(K_minus_minus, K_minus_minus))\n",
    "\n",
    "print(H)"
   ]
  },
  {
   "cell_type": "code",
   "execution_count": 7,
   "metadata": {},
   "outputs": [
    {
     "data": {
      "text/plain": [
       "array([-9.89949494e+00, -8.48528137e+00, -7.07106781e+00, -5.65685425e+00,\n",
       "       -4.24264069e+00, -2.82842712e+00, -1.41421356e+00, -3.37088500e-16,\n",
       "        1.41421356e+00,  2.82842712e+00,  4.24264069e+00,  5.65685425e+00,\n",
       "        7.07106781e+00,  8.48528137e+00,  9.89949494e+00])"
      ]
     },
     "execution_count": 7,
     "metadata": {},
     "output_type": "execute_result"
    }
   ],
   "source": [
    "np.linalg.eigh(H)[0]"
   ]
  },
  {
   "cell_type": "code",
   "execution_count": 9,
   "metadata": {},
   "outputs": [
    {
     "data": {
      "text/plain": [
       "(-20.0, 20.0)"
      ]
     },
     "execution_count": 9,
     "metadata": {},
     "output_type": "execute_result"
    },
    {
     "data": {
      "image/png": "[encoded data removed]",
      "text/plain": [
       "<Figure size 640x480 with 1 Axes>"
      ]
     },
     "metadata": {},
     "output_type": "display_data"
    }
   ],
   "source": [
    "eps_0 = 1 \n",
    "Omega = 14\n",
    "V_mesh = np.linspace(0 , 0.08 , 100)\n",
    "\n",
    "\n",
    "for b in range(15):\n",
    "\n",
    "    E_val = []\n",
    "\n",
    "    for c in range(len(V_mesh)):\n",
    "        for i in range(len(k_0_ket)):\n",
    "            for j in range(len(k_0_bra)):\n",
    "                K_0[i][j] = eps_0 * K_0_op(k_0_bra[j], k_0_ket[i]) \n",
    "                K_plus_plus[i][j] =  K_plus_op(k_0_max,k_0_bra[j], k_0_ket[i])\n",
    "                K_minus_minus[i][j] = K_minus_op(k_0_max,k_0_bra[j], k_0_ket[i])\n",
    "        \n",
    "        H =  K_0 + (.5 * V_mesh[c]* (np.matmul(K_plus_plus, K_plus_plus) +  np.matmul(K_minus_minus, K_minus_minus)))\n",
    "        \n",
    "\n",
    "        E_val.append(np.linalg.eigh(H)[0][b])\n",
    "    \n",
    "    plt.plot(V_mesh, E_val)\n",
    "\n",
    "\n",
    "plt.ylim(-20,20)"
   ]
  },
  {
   "cell_type": "code",
   "execution_count": 9,
   "metadata": {},
   "outputs": [
    {
     "name": "stdout",
     "output_type": "stream",
     "text": [
      "[[-7.          0.          0.76315136  0.          0.          0.\n",
      "   0.          0.          0.          0.          0.          0.\n",
      "   0.          0.          0.        ]\n",
      " [ 0.         -6.          0.          1.22376468  0.          0.\n",
      "   0.          0.          0.          0.          0.          0.\n",
      "   0.          0.          0.        ]\n",
      " [ 0.76315136  0.         -5.          0.          1.5919799   0.\n",
      "   0.          0.          0.          0.          0.          0.\n",
      "   0.          0.          0.        ]\n",
      " [ 0.          1.22376468  0.         -4.          0.          1.8761663\n",
      "   0.          0.          0.          0.          0.          0.\n",
      "   0.          0.          0.        ]\n",
      " [ 0.          0.          1.5919799   0.         -3.          0.\n",
      "   2.07846097  0.          0.          0.          0.          0.\n",
      "   0.          0.          0.        ]\n",
      " [ 0.          0.          0.          1.8761663   0.         -2.\n",
      "   0.          2.19963633  0.          0.          0.          0.\n",
      "   0.          0.          0.        ]\n",
      " [ 0.          0.          0.          0.          2.07846097  0.\n",
      "  -1.          0.          2.24        0.          0.          0.\n",
      "   0.          0.          0.        ]\n",
      " [ 0.          0.          0.          0.          0.          2.19963633\n",
      "   0.          0.          0.          2.19963633  0.          0.\n",
      "   0.          0.          0.        ]\n",
      " [ 0.          0.          0.          0.          0.          0.\n",
      "   2.24        0.          1.          0.          2.07846097  0.\n",
      "   0.          0.          0.        ]\n",
      " [ 0.          0.          0.          0.          0.          0.\n",
      "   0.          2.19963633  0.          2.          0.          1.8761663\n",
      "   0.          0.          0.        ]\n",
      " [ 0.          0.          0.          0.          0.          0.\n",
      "   0.          0.          2.07846097  0.          3.          0.\n",
      "   1.5919799   0.          0.        ]\n",
      " [ 0.          0.          0.          0.          0.          0.\n",
      "   0.          0.          0.          1.8761663   0.          4.\n",
      "   0.          1.22376468  0.        ]\n",
      " [ 0.          0.          0.          0.          0.          0.\n",
      "   0.          0.          0.          0.          1.5919799   0.\n",
      "   5.          0.          0.76315136]\n",
      " [ 0.          0.          0.          0.          0.          0.\n",
      "   0.          0.          0.          0.          0.          1.22376468\n",
      "   0.          6.          0.        ]\n",
      " [ 0.          0.          0.          0.          0.          0.\n",
      "   0.          0.          0.          0.          0.          0.\n",
      "   0.76315136  0.          7.        ]]\n"
     ]
    }
   ],
   "source": [
    "for i in range(len(k_0_ket)):\n",
    "    for j in range(len(k_0_bra)):\n",
    "        K_0[i][j] = eps_0 * K_0_op(k_0_bra[j], k_0_ket[i]) \n",
    "        K_plus_plus[i][j] =  K_plus_op(k_0_max,k_0_bra[j], k_0_ket[i])\n",
    "        K_minus_minus[i][j] = K_minus_op(k_0_max,k_0_bra[j], k_0_ket[i])\n",
    "        \n",
    "H =  K_0 + (.5 * V_mesh[c]* (np.matmul(K_plus_plus, K_plus_plus) +  np.matmul(K_minus_minus, K_minus_minus)))\n",
    "print(H)"
   ]
  },
  {
   "cell_type": "code",
   "execution_count": 10,
   "metadata": {},
   "outputs": [
    {
     "name": "stdout",
     "output_type": "stream",
     "text": [
      "[-9.89949494e+00 -8.48528137e+00 -7.07106781e+00 -5.65685425e+00\n",
      " -4.24264069e+00 -2.82842712e+00 -1.41421356e+00 -3.37088500e-16\n",
      "  1.41421356e+00  2.82842712e+00  4.24264069e+00  5.65685425e+00\n",
      "  7.07106781e+00  8.48528137e+00  9.89949494e+00]\n"
     ]
    }
   ],
   "source": [
    "V = 1 \n",
    "\n",
    "for i in range(len(k_0_ket)):\n",
    "    for j in range(len(k_0_bra)):\n",
    "        K_0[i][j] = eps_0 * K_0_op(k_0_bra[j], k_0_ket[i]) \n",
    "        K_plus_plus[i][j] = 0.5 * V* K_plus_op(k_0_max,k_0_bra[j], k_0_ket[i])\n",
    "        K_minus_minus[i][j] = 0.5 * V* K_minus_op(k_0_max,k_0_bra[j], k_0_ket[i])\n",
    "\n",
    "H =  K_0 + (K_plus_plus + K_minus_minus)\n",
    "\n",
    "print(np.linalg.eigh(H)[0])\n"
   ]
  },
  {
   "cell_type": "code",
   "execution_count": 11,
   "metadata": {},
   "outputs": [
    {
     "ename": "SyntaxError",
     "evalue": "invalid syntax (79473102.py, line 1)",
     "output_type": "error",
     "traceback": [
      "\u001b[0;36m  Cell \u001b[0;32mIn[11], line 1\u001b[0;36m\u001b[0m\n\u001b[0;31m    = K_plus_op(k_0_max,k_0_bra[j], k_0_ket[i]) + K_minus_op(k_0_max,k_0_bra[j], k_0_ket[i])\u001b[0m\n\u001b[0m    ^\u001b[0m\n\u001b[0;31mSyntaxError\u001b[0m\u001b[0;31m:\u001b[0m invalid syntax\n"
     ]
    }
   ],
   "source": [
    "= K_plus_op(k_0_max,k_0_bra[j], k_0_ket[i]) + K_minus_op(k_0_max,k_0_bra[j], k_0_ket[i])"
   ]
  }
 ],
 "metadata": {
  "kernelspec": {
   "display_name": "Python 3",
   "language": "python",
   "name": "python3"
  },
  "language_info": {
   "codemirror_mode": {
    "name": "ipython",
    "version": 3
   },
   "file_extension": ".py",
   "mimetype": "text/x-python",
   "name": "python",
   "nbconvert_exporter": "python",
   "pygments_lexer": "ipython3",
   "version": "3.10.13"
  }
 },
 "nbformat": 4,
 "nbformat_minor": 2
}
