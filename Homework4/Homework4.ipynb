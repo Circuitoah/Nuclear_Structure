{
 "cells": [
  {
   "cell_type": "code",
   "execution_count": 1,
   "metadata": {},
   "outputs": [],
   "source": [
    "import numpy as np\n",
    "from matplotlib import pyplot as plt"
   ]
  },
  {
   "cell_type": "markdown",
   "metadata": {},
   "source": [
    "problem 2"
   ]
  },
  {
   "cell_type": "code",
   "execution_count": 2,
   "metadata": {},
   "outputs": [],
   "source": [
    "eps_0 = 1 \n",
    "Omega = 14\n",
    "N = 14\n",
    "V = 1"
   ]
  },
  {
   "cell_type": "code",
   "execution_count": null,
   "metadata": {},
   "outputs": [],
   "source": []
  },
  {
   "cell_type": "code",
   "execution_count": 3,
   "metadata": {},
   "outputs": [
    {
     "name": "stdout",
     "output_type": "stream",
     "text": [
      "15\n",
      "\n",
      "0.0\n"
     ]
    }
   ],
   "source": [
    "\n",
    "K_0 = np.zeros([N + 1, N +1])\n",
    "K_plus = np.zeros([N + 1, N + 1])\n",
    "K_minus = np.zeros([N + 1, N + 1])\n",
    "\n",
    "\n",
    "k_0_max = N* .5\n",
    "k_0_min = -N * .5\n",
    "\n",
    "k_0_ket = []\n",
    "\n",
    "\n",
    "k_0 = k_0_min\n",
    "\n",
    "while (k_0 <= k_0_max):\n",
    "\n",
    "    k_0_ket.append(k_0)\n",
    "    k_0 += 1\n",
    "\n",
    "k_0_bra = k_0_ket\n",
    "\n",
    "\n",
    "print( len(k_0_ket))\n",
    "print()\n",
    "\n",
    "print(K_0[13][13])\n"
   ]
  },
  {
   "cell_type": "code",
   "execution_count": null,
   "metadata": {},
   "outputs": [],
   "source": []
  },
  {
   "cell_type": "code",
   "execution_count": 4,
   "metadata": {},
   "outputs": [],
   "source": [
    "def K_0_op(bra, ket):\n",
    "    \n",
    "    if bra == ket:\n",
    "        result = ket\n",
    "    \n",
    "    else: \n",
    "        result =  0\n",
    "\n",
    "    return result\n",
    "\n",
    "def K_plus_op(K_proper, bra, ket): \n",
    "\n",
    "    if bra == (ket + 1):\n",
    "\n",
    "        term1 = np.sqrt( K_proper * (K_proper + 1 )  -  ket * (ket + 1))   \n",
    "        #term2 = np.sqrt( K_proper * (K_proper + 1 )  + (ket + 1) * ((ket + 1) + 1))\n",
    "\n",
    "        return term1 #* term2\n",
    "\n",
    "    else: \n",
    "        return 0\n",
    "\n",
    "\n",
    "def K_minus_op(K_proper, bra, ket): \n",
    "\n",
    "    if bra == (ket - 1):\n",
    "\n",
    "        term1 = np.sqrt( K_proper * (K_proper + 1 )  - ket * (ket - 1))\n",
    "        #term2 = np.sqrt( K_proper * (K_proper + 1 )  + (ket - 1) * ((ket - 1) - 1))\n",
    "\n",
    "        return term1 #* term2\n",
    "\n",
    "    else: \n",
    "        return 0"
   ]
  },
  {
   "cell_type": "code",
   "execution_count": 5,
   "metadata": {},
   "outputs": [],
   "source": [
    "for i in range(len(k_0_ket)):\n",
    "    for j in range(len(k_0_bra)):\n",
    "        K_0[i][j] = K_0_op(k_0_bra[j], k_0_ket[i]) \n",
    "        K_plus[i][j] =  K_plus_op(k_0_max,k_0_bra[j], k_0_ket[i])\n",
    "        K_minus[i][j] =  K_minus_op(k_0_max,k_0_bra[j], k_0_ket[i])\n"
   ]
  },
  {
   "cell_type": "code",
   "execution_count": 6,
   "metadata": {},
   "outputs": [
    {
     "name": "stdout",
     "output_type": "stream",
     "text": [
      "[[-7.          0.          9.53939201  0.          0.          0.\n",
      "   0.          0.          0.          0.          0.          0.\n",
      "   0.          0.          0.        ]\n",
      " [ 0.         -6.          0.         15.29705854  0.          0.\n",
      "   0.          0.          0.          0.          0.          0.\n",
      "   0.          0.          0.        ]\n",
      " [ 9.53939201  0.         -5.          0.         19.89974874  0.\n",
      "   0.          0.          0.          0.          0.          0.\n",
      "   0.          0.          0.        ]\n",
      " [ 0.         15.29705854  0.         -4.          0.         23.4520788\n",
      "   0.          0.          0.          0.          0.          0.\n",
      "   0.          0.          0.        ]\n",
      " [ 0.          0.         19.89974874  0.         -3.          0.\n",
      "  25.98076211  0.          0.          0.          0.          0.\n",
      "   0.          0.          0.        ]\n",
      " [ 0.          0.          0.         23.4520788   0.         -2.\n",
      "   0.         27.49545417  0.          0.          0.          0.\n",
      "   0.          0.          0.        ]\n",
      " [ 0.          0.          0.          0.         25.98076211  0.\n",
      "  -1.          0.         28.          0.          0.          0.\n",
      "   0.          0.          0.        ]\n",
      " [ 0.          0.          0.          0.          0.         27.49545417\n",
      "   0.          0.          0.         27.49545417  0.          0.\n",
      "   0.          0.          0.        ]\n",
      " [ 0.          0.          0.          0.          0.          0.\n",
      "  28.          0.          1.          0.         25.98076211  0.\n",
      "   0.          0.          0.        ]\n",
      " [ 0.          0.          0.          0.          0.          0.\n",
      "   0.         27.49545417  0.          2.          0.         23.4520788\n",
      "   0.          0.          0.        ]\n",
      " [ 0.          0.          0.          0.          0.          0.\n",
      "   0.          0.         25.98076211  0.          3.          0.\n",
      "  19.89974874  0.          0.        ]\n",
      " [ 0.          0.          0.          0.          0.          0.\n",
      "   0.          0.          0.         23.4520788   0.          4.\n",
      "   0.         15.29705854  0.        ]\n",
      " [ 0.          0.          0.          0.          0.          0.\n",
      "   0.          0.          0.          0.         19.89974874  0.\n",
      "   5.          0.          9.53939201]\n",
      " [ 0.          0.          0.          0.          0.          0.\n",
      "   0.          0.          0.          0.          0.         15.29705854\n",
      "   0.          6.          0.        ]\n",
      " [ 0.          0.          0.          0.          0.          0.\n",
      "   0.          0.          0.          0.          0.          0.\n",
      "   9.53939201  0.          7.        ]]\n"
     ]
    }
   ],
   "source": [
    "H =  eps_0 * K_0 + 0.5 * V* (np.matmul(K_plus, K_plus) +  np.matmul(K_minus, K_minus))\n",
    "\n",
    "print(H)"
   ]
  },
  {
   "cell_type": "code",
   "execution_count": 7,
   "metadata": {},
   "outputs": [
    {
     "data": {
      "text/plain": [
       "array([-4.64308746e+01, -4.64296994e+01, -2.84249555e+01, -2.83611900e+01,\n",
       "       -1.43497128e+01, -1.32637067e+01, -4.72033140e+00, -5.92866626e-15,\n",
       "        4.72033140e+00,  1.32637067e+01,  1.43497128e+01,  2.83611900e+01,\n",
       "        2.84249555e+01,  4.64296994e+01,  4.64308746e+01])"
      ]
     },
     "execution_count": 7,
     "metadata": {},
     "output_type": "execute_result"
    }
   ],
   "source": [
    "np.linalg.eigh(H)[0]"
   ]
  },
  {
   "cell_type": "code",
   "execution_count": 8,
   "metadata": {},
   "outputs": [
    {
     "name": "stderr",
     "output_type": "stream",
     "text": [
      "No artists with labels found to put in legend.  Note that artists whose label start with an underscore are ignored when legend() is called with no argument.\n",
      "No artists with labels found to put in legend.  Note that artists whose label start with an underscore are ignored when legend() is called with no argument.\n"
     ]
    },
    {
     "data": {
      "text/plain": [
       "<matplotlib.legend.Legend at 0x7facb2285060>"
      ]
     },
     "execution_count": 8,
     "metadata": {},
     "output_type": "execute_result"
    },
    {
     "data": {
      "image/png": "[encoded data removed]",
      "text/plain": [
       "<Figure size 640x480 with 1 Axes>"
      ]
     },
     "metadata": {},
     "output_type": "display_data"
    }
   ],
   "source": [
    "eps_0 = 1 \n",
    "Omega = 14\n",
    "V_mesh = np.linspace(0 ,2 * eps_0/(Omega - 1) , 100)\n",
    "weird_mesh = np.linspace(0 ,2 , 100)\n",
    "\n",
    "r_list = [-1,1,-1, 1, -1, 1, -1, -1 ,1 ,-1 ,1, -1,1, -1 ,1 ,-1 ,-1 ,1]\n",
    "\n",
    "for b in range(15):\n",
    "\n",
    "    E_val = []\n",
    "\n",
    "    for c in range(len(V_mesh)):\n",
    "        for i in range(len(k_0_ket)):\n",
    "            for j in range(len(k_0_bra)):\n",
    "                K_0[i][j] = eps_0 * K_0_op(k_0_bra[j], k_0_ket[i]) \n",
    "                K_plus[i][j] =  K_plus_op(k_0_max,k_0_bra[j], k_0_ket[i])\n",
    "                K_minus[i][j] = K_minus_op(k_0_max,k_0_bra[j], k_0_ket[i])\n",
    "        \n",
    "        H =  K_0 + (.5 * V_mesh[c]* (np.matmul(K_plus, K_plus) +  np.matmul(K_minus, K_minus)))\n",
    "        \n",
    "\n",
    "        E_val.append(np.linalg.eigh(H)[0][b])\n",
    "    \n",
    "    #plt.plot(weird_mesh,E_val)\n",
    "    #plt.text(weird_mesh[0],E_val[0]+.05, r\"$r = $\" + str(r_list[b]), fontsize =10)\n",
    "\n",
    "plt.ylabel(r\"$E$\")\n",
    "plt.xlabel(r\"$V(\\Omega - 1)/ \\epsilon$\")\n",
    "\n",
    "plt.legend()\n",
    "plt.xlim(0,2)\n",
    "\n",
    "\n",
    "plt.legend()\n",
    "#plt.ylim(-20,20)"
   ]
  },
  {
   "cell_type": "code",
   "execution_count": null,
   "metadata": {},
   "outputs": [],
   "source": []
  },
  {
   "cell_type": "code",
   "execution_count": 9,
   "metadata": {},
   "outputs": [
    {
     "name": "stdout",
     "output_type": "stream",
     "text": [
      "[[-7.          0.          1.46759877  0.          0.          0.\n",
      "   0.          0.          0.          0.          0.          0.\n",
      "   0.          0.          0.        ]\n",
      " [ 0.         -6.          0.          2.35339362  0.          0.\n",
      "   0.          0.          0.          0.          0.          0.\n",
      "   0.          0.          0.        ]\n",
      " [ 1.46759877  0.         -5.          0.          3.06149981  0.\n",
      "   0.          0.          0.          0.          0.          0.\n",
      "   0.          0.          0.        ]\n",
      " [ 0.          2.35339362  0.         -4.          0.          3.60801212\n",
      "   0.          0.          0.          0.          0.          0.\n",
      "   0.          0.          0.        ]\n",
      " [ 0.          0.          3.06149981  0.         -3.          0.\n",
      "   3.99704033  0.          0.          0.          0.          0.\n",
      "   0.          0.          0.        ]\n",
      " [ 0.          0.          0.          3.60801212  0.         -2.\n",
      "   0.          4.23006987  0.          0.          0.          0.\n",
      "   0.          0.          0.        ]\n",
      " [ 0.          0.          0.          0.          3.99704033  0.\n",
      "  -1.          0.          4.30769231  0.          0.          0.\n",
      "   0.          0.          0.        ]\n",
      " [ 0.          0.          0.          0.          0.          4.23006987\n",
      "   0.          0.          0.          4.23006987  0.          0.\n",
      "   0.          0.          0.        ]\n",
      " [ 0.          0.          0.          0.          0.          0.\n",
      "   4.30769231  0.          1.          0.          3.99704033  0.\n",
      "   0.          0.          0.        ]\n",
      " [ 0.          0.          0.          0.          0.          0.\n",
      "   0.          4.23006987  0.          2.          0.          3.60801212\n",
      "   0.          0.          0.        ]\n",
      " [ 0.          0.          0.          0.          0.          0.\n",
      "   0.          0.          3.99704033  0.          3.          0.\n",
      "   3.06149981  0.          0.        ]\n",
      " [ 0.          0.          0.          0.          0.          0.\n",
      "   0.          0.          0.          3.60801212  0.          4.\n",
      "   0.          2.35339362  0.        ]\n",
      " [ 0.          0.          0.          0.          0.          0.\n",
      "   0.          0.          0.          0.          3.06149981  0.\n",
      "   5.          0.          1.46759877]\n",
      " [ 0.          0.          0.          0.          0.          0.\n",
      "   0.          0.          0.          0.          0.          2.35339362\n",
      "   0.          6.          0.        ]\n",
      " [ 0.          0.          0.          0.          0.          0.\n",
      "   0.          0.          0.          0.          0.          0.\n",
      "   1.46759877  0.          7.        ]]\n"
     ]
    }
   ],
   "source": [
    "for i in range(len(k_0_ket)):\n",
    "    for j in range(len(k_0_bra)):\n",
    "        K_0[i][j] = eps_0 * K_0_op(k_0_bra[j], k_0_ket[i]) \n",
    "        K_plus[i][j] =  K_plus_op(k_0_max,k_0_bra[j], k_0_ket[i])\n",
    "        K_minus[i][j] = K_minus_op(k_0_max,k_0_bra[j], k_0_ket[i])\n",
    "        \n",
    "H =  eps_0 *K_0 + (.5 * V_mesh[c]* (np.matmul(K_plus, K_plus) +  np.matmul(K_minus, K_minus)))\n",
    "print(H)"
   ]
  },
  {
   "cell_type": "code",
   "execution_count": 10,
   "metadata": {},
   "outputs": [
    {
     "name": "stdout",
     "output_type": "stream",
     "text": [
      "3\n",
      "5\n",
      "7\n",
      "9\n",
      "11\n",
      "13\n",
      "15\n"
     ]
    },
    {
     "data": {
      "image/png": "[encoded data removed]",
      "text/plain": [
       "<Figure size 640x480 with 1 Axes>"
      ]
     },
     "metadata": {},
     "output_type": "display_data"
    }
   ],
   "source": [
    "colors = [0, \"purple\", \"indigo\", \"blue\", \"green\", \"yellow\", 'orange', \"red\",\"m\" ]\n",
    "linetype = [0,\":\", \"-.\", \":\", \"-.\", \":\", \"-.\",\":\", \"-.\"]\n",
    "\n",
    "for N in range(1,8):\n",
    "    K_0 = np.zeros([2 * N + 1, 2*N +1])\n",
    "    K_plus = np.zeros([2 * N + 1, 2*N + 1])   \n",
    "    K_minus = np.zeros([2*N + 1, 2 * N + 1])\n",
    "\n",
    "\n",
    "    k_0_max = N\n",
    "    k_0_min = -N \n",
    "\n",
    "    k_0_ket = []\n",
    "\n",
    "\n",
    "    k_0 = k_0_min\n",
    "\n",
    "    while (k_0 <= k_0_max):\n",
    "\n",
    "        k_0_ket.append(k_0)\n",
    "        k_0 += 1\n",
    "\n",
    "        k_0_bra = k_0_ket\n",
    "\n",
    "    print( len(k_0_ket))\n",
    "\n",
    "\n",
    "    eps_0 = 1 \n",
    "    Omega = 14\n",
    "    V_mesh = np.linspace(0 ,2 * eps_0/(Omega - 1) , 100)\n",
    "    weird_mesh = np.linspace(0 ,2 , 100)\n",
    "\n",
    "\n",
    "    for b in range(2 *N +1):\n",
    "\n",
    "        E_val = []\n",
    "\n",
    "        for c in range(len(V_mesh)):\n",
    "            for i in range(len(k_0_ket)):\n",
    "                for j in range(len(k_0_bra)):\n",
    "                    K_0[i][j] = eps_0 * K_0_op(k_0_bra[j], k_0_ket[i]) \n",
    "                    K_plus[i][j] =  K_plus_op(k_0_max,k_0_bra[j], k_0_ket[i])\n",
    "                    K_minus[i][j] = K_minus_op(k_0_max,k_0_bra[j], k_0_ket[i])\n",
    "        \n",
    "            H =  K_0 + (.5 * V_mesh[c]* (np.matmul(K_plus, K_plus) +  np.matmul(K_minus, K_minus)))\n",
    "        \n",
    "\n",
    "            E_val.append(np.linalg.eigh(H)[0][b])\n",
    "    \n",
    "        plt.plot(weird_mesh, E_val,color = colors[N])\n",
    "    \n",
    "    plt.plot(weird_mesh, E_val,color = colors[N], label = \"K =\" + str(N))\n",
    "\n",
    "\n",
    "eps_0 = 1 \n",
    "Omega = 14\n",
    "V_mesh = np.linspace(0 ,2 * eps_0/(Omega - 1) , 100)\n",
    "weird_mesh = np.linspace(0 ,2 , 100)\n",
    "\n",
    "r_list = [-1,1,-1, 1, -1, 1, -1, -1 ,1 ,-1 ,1, -1,1, -1 ,1 ,-1 ,-1 ,1]\n",
    "\n",
    "for b in range(15):\n",
    "\n",
    "    E_val = []\n",
    "\n",
    "    for c in range(len(V_mesh)):\n",
    "        for i in range(len(k_0_ket)):\n",
    "            for j in range(len(k_0_bra)):\n",
    "                K_0[i][j] = eps_0 * K_0_op(k_0_bra[j], k_0_ket[i]) \n",
    "                K_plus[i][j] =  K_plus_op(k_0_max,k_0_bra[j], k_0_ket[i])\n",
    "                K_minus[i][j] = K_minus_op(k_0_max,k_0_bra[j], k_0_ket[i])\n",
    "        \n",
    "        H =  K_0 + (.5 * V_mesh[c]* (np.matmul(K_plus, K_plus) +  np.matmul(K_minus, K_minus)))\n",
    "        \n",
    "\n",
    "        E_val.append(np.linalg.eigh(H)[0][b])\n",
    "    \n",
    "    #plt.plot(weird_mesh,E_val)\n",
    "    plt.text(weird_mesh[0],E_val[0]+.05, r\"$r = $\" + str(r_list[b]), fontsize =10)\n",
    "\n",
    "\n",
    "\n",
    "    plt.ylabel(r\"$E$\")\n",
    "    plt.xlabel(r\"$V(\\Omega - 1)/ \\epsilon$\")\n",
    "\n",
    "    plt.legend()\n",
    "    plt.xlim(0,2)\n"
   ]
  },
  {
   "cell_type": "markdown",
   "metadata": {},
   "source": [
    "## Problem 3"
   ]
  },
  {
   "cell_type": "code",
   "execution_count": 11,
   "metadata": {},
   "outputs": [
    {
     "name": "stdout",
     "output_type": "stream",
     "text": [
      "-8.982597807197434\n",
      "-8.894519710453078\n"
     ]
    }
   ],
   "source": [
    "eps_0 = 1 \n",
    "Omega = 14\n",
    "V_3 = eps_0 * 1/ (Omega -1)\n",
    "\n",
    "for i in range(len(k_0_ket)):\n",
    "    for j in range(len(k_0_bra)):\n",
    "        K_0[i][j] = eps_0 * K_0_op(k_0_bra[j], k_0_ket[i]) \n",
    "        K_plus[i][j] =  K_plus_op(k_0_max,k_0_bra[j], k_0_ket[i])\n",
    "        K_minus[i][j] = K_minus_op(k_0_max,k_0_bra[j], k_0_ket[i])\n",
    "        \n",
    "H =  eps_0 *K_0 + (.5 * V_mesh[c]* (np.matmul(K_plus, K_plus) +  np.matmul(K_minus, K_minus)))\n",
    "\n",
    "print(np.linalg.eigh(H)[0][0])\n",
    "print(np.linalg.eigh(H)[0][1])"
   ]
  },
  {
   "cell_type": "markdown",
   "metadata": {},
   "source": [
    "## Problem 4"
   ]
  },
  {
   "cell_type": "markdown",
   "metadata": {},
   "source": [
    "## Problem 5"
   ]
  },
  {
   "cell_type": "code",
   "execution_count": 12,
   "metadata": {},
   "outputs": [
    {
     "name": "stdout",
     "output_type": "stream",
     "text": [
      "[[1 0]\n",
      " [0 1]]\n",
      "[0 1]\n",
      "0\n"
     ]
    }
   ],
   "source": [
    "sigma = np.array([[1,0],\n",
    "                 [0,-1]])\n",
    "\n",
    "print(np.matmul(sigma, sigma ))\n",
    "\n",
    "minus_ket = np.array([0,1])\n",
    "minus_bra = minus_ket.T\n",
    "\n",
    "plus_ket = np.array([1,0])\n",
    "plus_bra = plus_ket.T\n",
    "\n",
    "print(minus_bra)\n",
    "print( np.matmul(np.matmul(minus_bra,sigma), plus_ket) )"
   ]
  },
  {
   "cell_type": "code",
   "execution_count": 13,
   "metadata": {},
   "outputs": [
    {
     "data": {
      "text/plain": [
       "<matplotlib.legend.Legend at 0x7facb004c190>"
      ]
     },
     "execution_count": 13,
     "metadata": {},
     "output_type": "execute_result"
    },
    {
     "data": {
      "image/png": "[encoded data removed]",
      "text/plain": [
       "<Figure size 640x480 with 1 Axes>"
      ]
     },
     "metadata": {},
     "output_type": "display_data"
    }
   ],
   "source": [
    "V = 1 \n",
    "eps_0 = 1 \n",
    "Omega = 14\n",
    "V_mesh = np.linspace(0 ,2 * eps_0/(Omega - 1) , 100)\n",
    "weird_mesh = np.linspace(0 ,2 , 100)\n",
    "\n",
    "Q_ME = []\n",
    "Q_x = []\n",
    "\n",
    "\n",
    "for c in range(len(V_mesh)):\n",
    "    for i in range(len(k_0_ket)):\n",
    "        for j in range(len(k_0_bra)):\n",
    "            K_0[i][j] = eps_0 * K_0_op(k_0_bra[j], k_0_ket[i]) \n",
    "            K_plus[i][j] = K_plus_op(k_0_max,k_0_bra[j], k_0_ket[i])\n",
    "            K_minus[i][j] = K_minus_op(k_0_max,k_0_bra[j], k_0_ket[i])\n",
    "\n",
    "    H =  K_0 + (.5 * V_mesh[c]* (np.matmul(K_plus, K_plus) +  np.matmul(K_minus, K_minus)))\n",
    "    Q = .5 * (K_plus + K_minus)\n",
    "\n",
    "    gs_ket = np.linalg.eigh(H)[1].T[0]\n",
    "    gs_bra = gs_ket.T\n",
    "    fx_ket = np.linalg.eigh(H)[1].T[1]\n",
    "    fx_bra = fx_ket.T\n",
    "\n",
    "\n",
    "    Qx = abs(np.dot(gs_bra,np.dot( Q, gs_ket)))\n",
    "    Q_exp = abs(np.dot(fx_bra,np.dot( Q, gs_ket)))\n",
    "\n",
    "    Q_ME.append(Q_exp)\n",
    "    Q_x.append(Qx)\n",
    "\n",
    "\n",
    "\n",
    "plt.plot(weird_mesh, Q_x, color = \"red\" ,label = r\" $<E_0|\\hat Q| E_0>$\" )\n",
    "plt.plot(weird_mesh, Q_ME, color = \"blue\" ,label = r\" $<E_1|\\hat Q| E_0>$\" )\n",
    "\n",
    "plt.xlim(0,2)\n",
    "plt.ylim(-.5,2)\n",
    "plt.xlabel(r\"$V(\\Omega - 1)/ \\epsilon$\")\n",
    "plt.ylabel(r\"$\\hat Q$\")\n",
    "plt.legend()"
   ]
  },
  {
   "cell_type": "markdown",
   "metadata": {},
   "source": [
    "## Problem 6"
   ]
  },
  {
   "cell_type": "code",
   "execution_count": 20,
   "metadata": {},
   "outputs": [
    {
     "name": "stdout",
     "output_type": "stream",
     "text": [
      "[[ 0.   0.   0.   0.   0.   0. ]\n",
      " [ 0.   0.   0.   0.   0.   0. ]\n",
      " [ 0.   0.   1.   0.   0.  -0.1]\n",
      " [ 0.   0.   0.   0.   0.   0. ]\n",
      " [ 0.   0.   0.   0.   0.   0. ]\n",
      " [ 0.   0.  -0.1  0.   0.  -1. ]]\n",
      "\n",
      "[-1.00498756  0.          0.          0.          0.          1.00498756]\n"
     ]
    }
   ],
   "source": [
    "eps_0 =1\n",
    "V = 0.1\n",
    "N = 2\n",
    "Omega = 2\n",
    "\n",
    "K_plus = np.array([[ 0, 0, 0, 0, 0, 1],\n",
    "                   [ 0, 0, 0, 0, 0, 1],\n",
    "                   [ 1, 1, 0, 0, 0, 0],\n",
    "                   [ 0, 0, 0, 0, 0, 0],\n",
    "                   [ 0, 0, 0, 0, 0, 0],\n",
    "                   [ 0, 0, 0, 0, 0, 0],])\n",
    "\n",
    "K_minus = K_plus.T \n",
    "\n",
    "#print(np.dot(K_plus, K_plus))\n",
    "#print(np.dot(K_minus, K_minus))\n",
    "\n",
    "K_0 =np.array([[0,0,0,0,0,0],\n",
    "            [0,0,0,0,0,0],\n",
    "            [0,0,2,0,0,0],\n",
    "            [0,0,0,0,0,0],\n",
    "            [0,0,0,0,0,0],\n",
    "            [0,0,0,0,0,-2],])\n",
    "\n",
    "term1 = .5*eps_0 * K_0\n",
    "term2 = -.5 * V *(np.dot(K_plus, K_plus) +np.dot(K_minus, K_minus) )\n",
    "\n",
    "H = term1 + term2\n",
    "\n",
    "print(H)\n",
    "print()\n",
    "print(np.linalg.eigh(H)[0])"
   ]
  },
  {
   "cell_type": "code",
   "execution_count": 15,
   "metadata": {},
   "outputs": [
    {
     "name": "stdout",
     "output_type": "stream",
     "text": [
      "5\n"
     ]
    },
    {
     "ename": "IndexError",
     "evalue": "index 5 is out of bounds for axis 0 with size 5",
     "output_type": "error",
     "traceback": [
      "\u001b[0;31m---------------------------------------------------------------------------\u001b[0m",
      "\u001b[0;31mIndexError\u001b[0m                                Traceback (most recent call last)",
      "Cell \u001b[0;32mIn[15], line 45\u001b[0m\n\u001b[1;32m     40\u001b[0m             K_minus[i][j] \u001b[38;5;241m=\u001b[39m K_minus_op(k_0_max,k_0_bra[j], k_0_ket[i])\n\u001b[1;32m     42\u001b[0m     H \u001b[38;5;241m=\u001b[39m  K_0 \u001b[38;5;241m+\u001b[39m (\u001b[38;5;241m.5\u001b[39m \u001b[38;5;241m*\u001b[39m V_mesh[c]\u001b[38;5;241m*\u001b[39m (np\u001b[38;5;241m.\u001b[39mmatmul(K_plus, K_plus) \u001b[38;5;241m+\u001b[39m  np\u001b[38;5;241m.\u001b[39mmatmul(K_minus, K_minus)))\n\u001b[0;32m---> 45\u001b[0m     E_val\u001b[38;5;241m.\u001b[39mappend(\u001b[43mnp\u001b[49m\u001b[38;5;241;43m.\u001b[39;49m\u001b[43mlinalg\u001b[49m\u001b[38;5;241;43m.\u001b[39;49m\u001b[43meigh\u001b[49m\u001b[43m(\u001b[49m\u001b[43mH\u001b[49m\u001b[43m)\u001b[49m\u001b[43m[\u001b[49m\u001b[38;5;241;43m0\u001b[39;49m\u001b[43m]\u001b[49m\u001b[43m[\u001b[49m\u001b[43mb\u001b[49m\u001b[43m]\u001b[49m)\n\u001b[1;32m     47\u001b[0m \u001b[38;5;66;03m#plt.plot(weird_mesh,E_val)\u001b[39;00m\n",
      "\u001b[0;31mIndexError\u001b[0m: index 5 is out of bounds for axis 0 with size 5"
     ]
    }
   ],
   "source": [
    "N = 2\n",
    "K_0 = np.zeros([2 * N + 1, 2*N +1])\n",
    "K_plus = np.zeros([2 * N + 1, 2*N + 1])   \n",
    "K_minus = np.zeros([2*N + 1, 2 * N + 1])\n",
    "\n",
    "\n",
    "k_0_max = N\n",
    "k_0_min = -N \n",
    "\n",
    "k_0_ket = []\n",
    "\n",
    "\n",
    "k_0 = k_0_min\n",
    "\n",
    "while (k_0 <= k_0_max):\n",
    "\n",
    "    k_0_ket.append(k_0)\n",
    "    k_0 += 1\n",
    "\n",
    "    k_0_bra = k_0_ket\n",
    "\n",
    "print( len(k_0_ket))\n",
    "\n",
    "\n",
    "Omega = 2\n",
    "V_mesh = np.linspace(0 ,2 * eps_0/(Omega - 1) , 100)\n",
    "weird_mesh = np.linspace(0 ,2 , 100)\n",
    "\n",
    "r_list = [-1,1,-1, 1, -1, 1, -1, -1 ,1 ,-1 ,1, -1,1, -1 ,1 ,-1 ,-1 ,1]\n",
    "\n",
    "for b in range(6):\n",
    "\n",
    "    E_val = []\n",
    "\n",
    "    for c in range(len(V_mesh)):\n",
    "        for i in range(len(k_0_ket)):\n",
    "            for j in range(len(k_0_bra)):\n",
    "                K_0[i][j] = eps_0 * K_0_op(k_0_bra[j], k_0_ket[i]) \n",
    "                K_plus[i][j] =  K_plus_op(k_0_max,k_0_bra[j], k_0_ket[i])\n",
    "                K_minus[i][j] = K_minus_op(k_0_max,k_0_bra[j], k_0_ket[i])\n",
    "        \n",
    "        H =  K_0 + (.5 * V_mesh[c]* (np.matmul(K_plus, K_plus) +  np.matmul(K_minus, K_minus)))\n",
    "        \n",
    "\n",
    "        E_val.append(np.linalg.eigh(H)[0][b])\n",
    "    \n",
    "    #plt.plot(weird_mesh,E_val)"
   ]
  }
 ],
 "metadata": {
  "kernelspec": {
   "display_name": "Python 3",
   "language": "python",
   "name": "python3"
  },
  "language_info": {
   "codemirror_mode": {
    "name": "ipython",
    "version": 3
   },
   "file_extension": ".py",
   "mimetype": "text/x-python",
   "name": "python",
   "nbconvert_exporter": "python",
   "pygments_lexer": "ipython3",
   "version": "3.10.13"
  }
 },
 "nbformat": 4,
 "nbformat_minor": 2
}
